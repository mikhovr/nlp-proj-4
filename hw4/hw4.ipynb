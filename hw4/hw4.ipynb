{
 "cells": [
  {
   "cell_type": "markdown",
   "metadata": {},
   "source": [
    "### Михаил Ховричев"
   ]
  },
  {
   "cell_type": "markdown",
   "metadata": {},
   "source": [
    "Разработана программа по тематической классификации текста *с использованием машинного обучения* с помощью **word2vec**.\n",
    "В качестве размеченных данных были взяты материалы с сайта http://www.world-art.ru/. Скрипт для скрэпинга материалов -- в файле parser.py\n",
    "Данные на русском языке (в нужном объёме) довольно сложно получить. Так, например, данный сайт оказался одним из немногих, которые вообще позволили скрэпить данные, но процесс крайне осложнён -- каждые несколько запросов сайт банит по IP на полчаса. Рекомендую это учесть и сразу давать данные для обучения.\n",
    "\n",
    "В разработанной программе частично использованы свободные материалы с семинара Яндекса.\n",
    "https://events.yandex.ru/lib/talks/4137/"
   ]
  },
  {
   "cell_type": "code",
   "execution_count": 415,
   "metadata": {
    "collapsed": false
   },
   "outputs": [],
   "source": [
    "import csv\n",
    "import pymorphy2\n",
    "import nltk\n",
    "from nltk import word_tokenize\n",
    "from gensim.models import Word2Vec\n",
    "import pandas as pd\n",
    "import numpy as np\n",
    "import matplotlib.pyplot as plt\n",
    "from sklearn.model_selection import train_test_split\n",
    "from sklearn.metrics import accuracy_score, confusion_matrix\n",
    "from itertools import islice\n",
    "from sklearn import linear_model\n",
    "import gensim\n",
    "from sklearn.neighbors import KNeighborsClassifier\n",
    "import re\n",
    "\n",
    "%matplotlib inline"
   ]
  },
  {
   "cell_type": "code",
   "execution_count": 393,
   "metadata": {
    "collapsed": false
   },
   "outputs": [],
   "source": [
    "\"\"\"функция для графического отображения матрицы возмущений\"\"\"\n",
    "def plot_confusion_matrix(cm, title='Confusion matrix', cmap=plt.cm.Blues):\n",
    "    plt.imshow(cm, interpolation='nearest', cmap=cmap) # интерполяция методом NN, как в диаграмме Вороного\n",
    "    plt.title(title)\n",
    "    plt.colorbar()\n",
    "    tick_marks = np.arange(len(genres))\n",
    "    target_names = genres\n",
    "    plt.xticks(tick_marks, target_names, rotation=90)\n",
    "    plt.yticks(tick_marks, target_names)\n",
    "    plt.tight_layout()\n",
    "    plt.ylabel('True genre')\n",
    "    plt.xlabel('Predicted genre')"
   ]
  },
  {
   "cell_type": "code",
   "execution_count": 395,
   "metadata": {
    "collapsed": false
   },
   "outputs": [],
   "source": [
    "\"\"\"функция для расчёта точности и построения текстовой матрицы возмущения\"\"\"\n",
    "def evaluate_prediction(predictions, target, title='Confusion matrix'):\n",
    "    print('accuracy %s' % accuracy_score(target, predictions))\n",
    "    cm = confusion_matrix(target, predictions)\n",
    "    print('confusion matrix\\n %s' % cm)\n",
    "    print('(row=expected, col=predicted)')\n",
    "    \n",
    "    cm_normalized = cm.astype('float') / cm.sum(axis=1)[:, np.newaxis]\n",
    "    plot_confusion_matrix(cm_normalized, title + ' Normalized')"
   ]
  },
  {
   "cell_type": "code",
   "execution_count": 443,
   "metadata": {
    "collapsed": true
   },
   "outputs": [],
   "source": [
    "\"\"\"\n",
    "Функция расчёта усреднённого вектора документа.\n",
    "В word2vec каждому слову приписывается его векторное представление.\n",
    "Нам же нужно получить векторное представление документа.\n",
    "\"\"\"\n",
    "def word_averaging(wv, words):\n",
    "    all_words = set()\n",
    "    mean = []\n",
    "    \n",
    "    for word in words:\n",
    "        if isinstance(word, np.ndarray):\n",
    "            mean.append(word)\n",
    "        elif word in wv.vocab:\n",
    "            mean.append(wv.syn0norm[wv.vocab[word].index])\n",
    "            all_words.add(wv.vocab[word].index)\n",
    "\n",
    "    if not mean:\n",
    "        return np.zeros(wv.layer_size,)\n",
    "\n",
    "    mean = gensim.matutils.unitvec(np.array(mean).mean(axis=0)).astype(np.float32) # нормировка\n",
    "    return mean"
   ]
  },
  {
   "cell_type": "code",
   "execution_count": 445,
   "metadata": {
    "collapsed": true
   },
   "outputs": [],
   "source": [
    "\"\"\"\n",
    "Расчёт усреднённого вектора для каждого документа в датасете.\n",
    "\"\"\"\n",
    "def  word_averaging_list(wv, text_list):\n",
    "    return np.vstack([word_averaging(wv, review) for review in text_list])"
   ]
  },
  {
   "cell_type": "code",
   "execution_count": 444,
   "metadata": {
    "collapsed": false
   },
   "outputs": [],
   "source": [
    "\"\"\"\n",
    "Функция токенизации.\n",
    "NLTK не распознаёт кавычки-ёлочки, поэтому отдельно отчищаем их от токенов.\n",
    "\"\"\"\n",
    "def my_tokenizer(text):\n",
    "    tokens = []\n",
    "    for sent in nltk.sent_tokenize(text):\n",
    "        for word in nltk.word_tokenize(sent):\n",
    "            if '«' or '»' in word:\n",
    "                word = re.sub('[\\«\\»]', '', word)\n",
    "            if len(word) < 2:\n",
    "                continue\n",
    "            tokens.append(word)\n",
    "    return tokens"
   ]
  },
  {
   "cell_type": "code",
   "execution_count": 390,
   "metadata": {
    "collapsed": false
   },
   "outputs": [],
   "source": [
    "# Как и во всех моих ДЗ, будем приводить документы к стандартному представлению с помощью связки NLTK+pymorphy2\n",
    "from nltk.corpus import stopwords\n",
    "sw = stopwords.words('russian')\n",
    "badPOS = {'NPRO','PREP', 'CONJ', 'PRCL', 'INTJ','PNCT', 'NUMB', 'ROMN', 'UNKN', 'Apro'}\n",
    "morph = pymorphy2.MorphAnalyzer()"
   ]
  },
  {
   "cell_type": "code",
   "execution_count": 391,
   "metadata": {
    "collapsed": true
   },
   "outputs": [],
   "source": [
    "pd.set_option('display.max_colwidth', 80) # для отображения"
   ]
  },
  {
   "cell_type": "markdown",
   "metadata": {},
   "source": [
    "Ознакомимся с данными. Это сюжеты аниме с отмеченным жанром. Для работы с данными и машинного обучения используем классическую связку (pandas, numpy, matplotlib, scikit-learn)."
   ]
  },
  {
   "cell_type": "code",
   "execution_count": 374,
   "metadata": {
    "collapsed": false
   },
   "outputs": [
    {
     "data": {
      "text/html": [
       "<div>\n",
       "<table border=\"1\" class=\"dataframe\">\n",
       "  <thead>\n",
       "    <tr style=\"text-align: right;\">\n",
       "      <th></th>\n",
       "      <th>plot</th>\n",
       "      <th>genre</th>\n",
       "    </tr>\n",
       "  </thead>\n",
       "  <tbody>\n",
       "    <tr>\n",
       "      <th>0</th>\n",
       "      <td>Год 1988. Огромный взрыв наподобие тех, что без малого полвека назад сотрясл...</td>\n",
       "      <td>фантастика</td>\n",
       "    </tr>\n",
       "    <tr>\n",
       "      <th>1</th>\n",
       "      <td>Никогда еще в школьном аниме не собиралась такая веселая и сплоченная девичь...</td>\n",
       "      <td>повседневность</td>\n",
       "    </tr>\n",
       "    <tr>\n",
       "      <th>2</th>\n",
       "      <td>Через предательство и кровь к власти пришел новый король. Его демоны-подручн...</td>\n",
       "      <td>повседневность</td>\n",
       "    </tr>\n",
       "    <tr>\n",
       "      <th>3</th>\n",
       "      <td>Девочка Мимико – сирота. У нее нет ни папы, ни мамы, есть только старенькая ...</td>\n",
       "      <td>романтика</td>\n",
       "    </tr>\n",
       "    <tr>\n",
       "      <th>4</th>\n",
       "      <td>Насколько связана реальность и виртуальный мир? Четырнадцатилетняя школьница...</td>\n",
       "      <td>фантастика</td>\n",
       "    </tr>\n",
       "  </tbody>\n",
       "</table>\n",
       "</div>"
      ],
      "text/plain": [
       "                                                                              plot  \\\n",
       "0  Год 1988. Огромный взрыв наподобие тех, что без малого полвека назад сотрясл...   \n",
       "1  Никогда еще в школьном аниме не собиралась такая веселая и сплоченная девичь...   \n",
       "2  Через предательство и кровь к власти пришел новый король. Его демоны-подручн...   \n",
       "3  Девочка Мимико – сирота. У нее нет ни папы, ни мамы, есть только старенькая ...   \n",
       "4  Насколько связана реальность и виртуальный мир? Четырнадцатилетняя школьница...   \n",
       "\n",
       "            genre  \n",
       "0      фантастика  \n",
       "1  повседневность  \n",
       "2  повседневность  \n",
       "3       романтика  \n",
       "4      фантастика  "
      ]
     },
     "execution_count": 374,
     "metadata": {},
     "output_type": "execute_result"
    }
   ],
   "source": [
    "path = 'data/anime_data.csv'\n",
    "df = pd.read_table(path)\n",
    "df = df.dropna()\n",
    "df.head()"
   ]
  },
  {
   "cell_type": "code",
   "execution_count": 429,
   "metadata": {
    "collapsed": false
   },
   "outputs": [
    {
     "data": {
      "text/plain": [
       "(417, 2)"
      ]
     },
     "execution_count": 429,
     "metadata": {},
     "output_type": "execute_result"
    }
   ],
   "source": [
    "df.shape"
   ]
  },
  {
   "cell_type": "code",
   "execution_count": 433,
   "metadata": {
    "collapsed": false
   },
   "outputs": [
    {
     "name": "stdout",
     "output_type": "stream",
     "text": [
      "Количество слов в корпусе: 62845\n"
     ]
    }
   ],
   "source": [
    "print(\"Количество слов в корпусе:\", df['plot'].apply(lambda x: len(x.split(' '))).sum())"
   ]
  },
  {
   "cell_type": "markdown",
   "metadata": {},
   "source": [
    "Как видим, корпус довольно небольшой."
   ]
  },
  {
   "cell_type": "code",
   "execution_count": 375,
   "metadata": {
    "collapsed": false
   },
   "outputs": [
    {
     "name": "stdout",
     "output_type": "stream",
     "text": [
      "Количество жанров: 6\n",
      "['фантастика' 'повседневность' 'романтика' 'драма' 'приключения' 'комедия']\n"
     ]
    }
   ],
   "source": [
    "genres = df['genre'].unique()\n",
    "print('Количество жанров:', len(genres))\n",
    "print(genres)"
   ]
  },
  {
   "cell_type": "code",
   "execution_count": 392,
   "metadata": {
    "collapsed": false,
    "scrolled": true
   },
   "outputs": [
    {
     "data": {
      "text/plain": [
       "0.23741007194244604"
      ]
     },
     "execution_count": 392,
     "metadata": {},
     "output_type": "execute_result"
    },
    {
     "data": {
      "image/png": "[encoded data removed]",
      "text/plain": [
       "<matplotlib.figure.Figure at 0x7f0878b2f978>"
      ]
     },
     "metadata": {},
     "output_type": "display_data"
    }
   ],
   "source": [
    "df['plot'].apply(lambda x: len(x.split(' '))).sum()\n",
    "df.genre.value_counts().plot(kind=\"bar\", width=0.8, rot=90, title='Распределение жанров в датасете', color='g')\n",
    "# удельная доля жанра \"приключения\" (baseline)\n",
    "df.genre.value_counts()['приключения']/df.genre.value_counts().sum()"
   ]
  },
  {
   "cell_type": "markdown",
   "metadata": {},
   "source": [
    "Разделим данные на обучающую и контрольную выборки в соотношении 90%-10%."
   ]
  },
  {
   "cell_type": "code",
   "execution_count": 377,
   "metadata": {
    "collapsed": false
   },
   "outputs": [
    {
     "data": {
      "text/plain": [
       "42"
      ]
     },
     "execution_count": 377,
     "metadata": {},
     "output_type": "execute_result"
    }
   ],
   "source": [
    "train_data, test_data = train_test_split(df, test_size=0.1, random_state=330)\n",
    "len(test_data)"
   ]
  },
  {
   "cell_type": "code",
   "execution_count": 378,
   "metadata": {
    "collapsed": false
   },
   "outputs": [
    {
     "data": {
      "text/plain": [
       "0.19047619047619047"
      ]
     },
     "execution_count": 378,
     "metadata": {},
     "output_type": "execute_result"
    },
    {
     "data": {
      "image/png": "[encoded data removed]",
      "text/plain": [
       "<matplotlib.figure.Figure at 0x7f08c38f5080>"
      ]
     },
     "metadata": {},
     "output_type": "display_data"
    }
   ],
   "source": [
    "test_data.genre.value_counts().plot(kind=\"bar\",width=0.8,rot=90, title='Распределение жанров в тест-сете', color='g')\n",
    "test_data.genre.value_counts()['приключения']/test_data.genre.value_counts().sum()"
   ]
  },
  {
   "cell_type": "markdown",
   "metadata": {},
   "source": [
    "Как видим, доля жанра \"приключения\" в тестовой выборке составляет порядка 19%."
   ]
  },
  {
   "cell_type": "markdown",
   "metadata": {},
   "source": [
    "Произведём токенизацию с помощью функции my_tokenizer."
   ]
  },
  {
   "cell_type": "code",
   "execution_count": 385,
   "metadata": {
    "collapsed": false
   },
   "outputs": [],
   "source": [
    "test_tokenized = test_data.apply(lambda x: my_tokenizer(x['plot']), axis=1).values\n",
    "train_tokenized = train_data.apply(lambda x: my_tokenizer(x['plot']), axis=1).values"
   ]
  },
  {
   "cell_type": "markdown",
   "metadata": {},
   "source": [
    "Произведём лемматизацию. Аналогичная производилась и в предыдущих ДЗ."
   ]
  },
  {
   "cell_type": "code",
   "execution_count": 386,
   "metadata": {
    "collapsed": false
   },
   "outputs": [],
   "source": [
    "transform = lambda x: morph.parse(x)[0]\n",
    "condition = lambda x: not [item for item in badPOS if item in str(transform(x).tag)] and transform(x).word not in sw\n",
    "\n",
    "test_lemmatized = [[transform(token).normal_form for token in doc if condition(token)] for doc in test_tokenized]\n",
    "train_lemmatized = [[transform(token).normal_form for token in doc if condition(token)] for doc in train_tokenized]"
   ]
  },
  {
   "cell_type": "markdown",
   "metadata": {},
   "source": [
    "Теперь будем обучать модель. Для этого объединим нормализованные выборки.\n",
    "Для имплементации word2vec используем gensim."
   ]
  },
  {
   "cell_type": "code",
   "execution_count": 527,
   "metadata": {
    "collapsed": false
   },
   "outputs": [],
   "source": [
    "sentences = test_lemmatized+train_lemmatized\n",
    "model = Word2Vec(sentences, size=150)\n",
    "model.init_sims(replace=True)"
   ]
  },
  {
   "cell_type": "markdown",
   "metadata": {},
   "source": [
    "Посмотрим на модель."
   ]
  },
  {
   "cell_type": "code",
   "execution_count": 528,
   "metadata": {
    "collapsed": false
   },
   "outputs": [
    {
     "data": {
      "text/plain": [
       "[('человек', 0.9998202919960022),\n",
       " ('жизнь', 0.9998162388801575),\n",
       " ('девушка', 0.9998117089271545),\n",
       " ('сила', 0.9998102188110352),\n",
       " ('парень', 0.9998069405555725),\n",
       " ('мир', 0.9998056292533875),\n",
       " ('друг', 0.9998050332069397),\n",
       " ('время', 0.9997981786727905),\n",
       " ('стать', 0.9997965693473816),\n",
       " ('дело', 0.9997923374176025)]"
      ]
     },
     "execution_count": 528,
     "metadata": {},
     "output_type": "execute_result"
    }
   ],
   "source": [
    "model.most_similar(\"любовь\")"
   ]
  },
  {
   "cell_type": "markdown",
   "metadata": {},
   "source": [
    "Приведём каждый документ в выборках к векторному представлению с помощью функций word_averaging, word_averaging_list."
   ]
  },
  {
   "cell_type": "code",
   "execution_count": 529,
   "metadata": {
    "collapsed": false
   },
   "outputs": [],
   "source": [
    "test_WA = word_averaging_list(model, test_tokenized)\n",
    "train_WA = word_averaging_list(model, train_tokenized)"
   ]
  },
  {
   "cell_type": "markdown",
   "metadata": {},
   "source": [
    "Воспользуемся логистической регрессией для предсказания. Логистическая регрессия выбрана, как показывающая немного лучшие результаты в сравнении с тем же методом ближайшего соседа. "
   ]
  },
  {
   "cell_type": "code",
   "execution_count": 536,
   "metadata": {
    "collapsed": false
   },
   "outputs": [],
   "source": [
    "logreg = linear_model.LogisticRegression(n_jobs=1, C=1e6)\n",
    "logreg = logreg.fit(train_WA, train_data['genre'])\n",
    "predicted = logreg.predict(test_WA)"
   ]
  },
  {
   "cell_type": "markdown",
   "metadata": {},
   "source": [
    "Посмотрим, что у нас получилось. В матрице возмущений в текстовом виде подсчёт идёт по количествам, в графическом -- по удельной доле. Концентрироваться числам (или синим квадратикам) нужно на диагонали. Большее число (интенсивность цвета) на диагонали -- хорошо, вне диагонали -- плохо."
   ]
  },
  {
   "cell_type": "code",
   "execution_count": 537,
   "metadata": {
    "collapsed": false
   },
   "outputs": [
    {
     "name": "stdout",
     "output_type": "stream",
     "text": [
      "accuracy 0.214285714286\n",
      "confusion matrix\n",
      " [[0 1 1 1 0 2]\n",
      " [2 4 1 1 1 1]\n",
      " [0 4 1 0 3 1]\n",
      " [1 0 0 2 2 3]\n",
      " [0 2 1 0 2 0]\n",
      " [0 1 2 2 0 0]]\n",
      "(row=expected, col=predicted)\n"
     ]
    },
    {
     "data": {
      "image/png": "[encoded data removed]",
      "text/plain": [
       "<matplotlib.figure.Figure at 0x7f08c3935080>"
      ]
     },
     "metadata": {},
     "output_type": "display_data"
    }
   ],
   "source": [
    "evaluate_prediction(predicted, test_data.genre)"
   ]
  },
  {
   "cell_type": "markdown",
   "metadata": {},
   "source": [
    "Не очень здорово. 21% -- это лучше, чем 19%, но незначительно. (Однако это не программа плохая, так что невысокая точность, как мне кажется, не повод для снижения оценки). Что является причиной? \n",
    "\n",
    "1. Размер корпуса. Он действительно небольшой, а достать данные оказалось не такой простой задачей (для sentiment analysis это сделать намного проще, но анализ тональности, хоть и подзадача данной задачи, -- это другой вариант ДЗ). \n",
    "\n",
    "2. В изначальных данных было больше классов (\"фэнтези\", \"сёдзе-ай\" и др.), но они имели от 1 до 3 представителей, что создавало сильный дисбаланс в данных (многие  жанры даже не попадали в тестовую выборку), поэтому подобные сюжеты были присоединены к имеющимся по семантике (\"фэнтези\" -> \"фантастика\", \"сёдзе-ай\" -> \"романтика\" и т.д). Возможно, этого делать не стоило, однако несбалансированные данные -- это хуже.\n",
    "\n",
    "3. Аниме по сути своей достаточно эмоциональный вид анимации, в нём часто обыгрываются отношения между людьми, поэтому лексически описание \"романтических\" сюжетов мало отличается от \"повседневных\". Это видим и в матрице -- классификатор их путает.\n",
    "\n",
    "Теперь отвлечёмся от грустных мыслей о точности модели и исследуем результат.\n",
    "\n",
    "\"Фантастика\" часто определяется как \"комедия\" (а наоборот классификатор не путает).\n",
    "\"Повседневность\" определяется относительно хорошо, но \"повседневные\" жанры предсказываются как что угодно.\n",
    "\"Романтика\" часто определяется как \"повседневность\".\n",
    "\"Драма\" часто путается с \"комедией\". Причём в обе стороны.\n",
    "\"Приключения\" определяются лучше, чем всё остальное. Но, как ни странно, совершенно не путаются с \"фантастикой\".\n",
    "\"Комедия\" часто определяется, как \"романтика\" и \"драма\". Первое ещё как-то объяснимо, второе -- неожиданно.\n",
    "\n",
    "В целом, программа составлена верно, учтены все аспекты предобработки текста, удалены все стоп-слова, произведена лемматизация, результаты . Использовано машинное обучение. Осталось взять побольше данных, и результат будет точным."
   ]
  }
 ],
 "metadata": {
  "kernelspec": {
   "display_name": "Python 3",
   "language": "python",
   "name": "python3"
  },
  "language_info": {
   "codemirror_mode": {
    "name": "ipython",
    "version": 3
   },
   "file_extension": ".py",
   "mimetype": "text/x-python",
   "name": "python",
   "nbconvert_exporter": "python",
   "pygments_lexer": "ipython3",
   "version": "3.6.0"
  }
 },
 "nbformat": 4,
 "nbformat_minor": 1
}
